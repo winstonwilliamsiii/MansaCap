{
  "nbformat": 4,
  "nbformat_minor": 0,
  "metadata": {
    "colab": {
      "provenance": [],
      "authorship_tag": "ABX9TyMwfdJoVaBlttnw0UAVH3Go",
      "include_colab_link": true
    },
    "kernelspec": {
      "name": "python3",
      "display_name": "Python 3"
    },
    "language_info": {
      "name": "python"
    }
  },
  "cells": [
    {
      "cell_type": "markdown",
      "metadata": {
        "id": "view-in-github",
        "colab_type": "text"
      },
      "source": [
        "<a href=\"https://colab.research.google.com/github/winstonwilliamsiii/MansaCap/blob/Python-Quant-Indicators/Kaggle_PyTraining.ipynb\" target=\"_parent\"><img src=\"https://colab.research.google.com/assets/colab-badge.svg\" alt=\"Open In Colab\"/></a>"
      ]
    },
    {
      "cell_type": "code",
      "source": [
        "mat.ceil -It takes as a number as input and rounds the number up to the nearest integer.\n"
      ],
      "metadata": {
        "id": "YPUCgZGfUivr"
      },
      "execution_count": null,
      "outputs": []
    },
    {
      "cell_type": "code",
      "execution_count": 2,
      "metadata": {
        "colab": {
          "base_uri": "https://localhost:8080/"
        },
        "id": "6rU6DqUsH2kS",
        "outputId": "42ebab9a-8769-431a-faa5-1e7597da20e7"
      },
      "outputs": [
        {
          "output_type": "stream",
          "name": "stdout",
          "text": [
            "2\n"
          ]
        }
      ],
      "source": [
        "test_value = 2.17\n",
        "\n",
        "rounded_value = round(test_value)\n",
        "print(rounded_value)"
      ]
    },
    {
      "cell_type": "markdown",
      "source": [
        "we can define a function round_up_and_divide_by_three that makes use of the math.ceil function\n",
        "  "
      ],
      "metadata": {
        "id": "9LIDZH5-VIc6"
      }
    },
    {
      "cell_type": "code",
      "source": [
        "def round_up_and_divide_by_three(num):\n",
        "    \"\"\"\n",
        "\n",
        "    Args:\n",
        "      num:\n",
        "\n",
        "    Returns:\n",
        "\n",
        "    \"\"\"\n",
        "    new_value = round(num)\n",
        "    final_value = new_value / 3\n",
        "    return final_value\n",
        ""
      ],
      "metadata": {
        "id": "r786SWtfVLNL"
      },
      "execution_count": 4,
      "outputs": []
    },
    {
      "cell_type": "code",
      "source": [
        "def get_actual_cost(sqft_walls, sqft_ceiling, sqft_per_gallon, cost_per_gallon):\n",
        "    cost = 2 * (sqft_walls + sqft_ceiling) * sqft_per_gallon * cost_per_gallon\n",
        "    return cost"
      ],
      "metadata": {
        "id": "ylwqnw6yVb4c"
      },
      "execution_count": 5,
      "outputs": []
    },
    {
      "cell_type": "code",
      "source": [
        "get_actual_cost(432, 144, 400, 15)\n"
      ],
      "metadata": {
        "colab": {
          "base_uri": "https://localhost:8080/"
        },
        "id": "ckX1MRIPVup1",
        "outputId": "9874bd7c-d1fe-44c0-ed3f-c313a4140036"
      },
      "execution_count": 6,
      "outputs": [
        {
          "output_type": "execute_result",
          "data": {
            "text/plain": [
              "6912000"
            ]
          },
          "metadata": {},
          "execution_count": 6
        }
      ]
    },
    {
      "cell_type": "code",
      "source": [
        "get_actual_cost(594, 288, 400, 15)"
      ],
      "metadata": {
        "colab": {
          "base_uri": "https://localhost:8080/"
        },
        "id": "G2xL2-5iVyvN",
        "outputId": "f451040c-ff9f-4f7d-87f9-7245b6823067"
      },
      "execution_count": 7,
      "outputs": [
        {
          "output_type": "execute_result",
          "data": {
            "text/plain": [
              "10584000"
            ]
          },
          "metadata": {},
          "execution_count": 7
        }
      ]
    }
  ]
}