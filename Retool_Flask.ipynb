{
  "nbformat": 4,
  "nbformat_minor": 0,
  "metadata": {
    "colab": {
      "provenance": [],
      "authorship_tag": "ABX9TyMbUnhSgHO9rSWB7sHQspzX",
      "include_colab_link": true
    },
    "kernelspec": {
      "name": "python3",
      "display_name": "Python 3"
    },
    "language_info": {
      "name": "python"
    }
  },
  "cells": [
    {
      "cell_type": "markdown",
      "metadata": {
        "id": "view-in-github",
        "colab_type": "text"
      },
      "source": [
        "<a href=\"https://colab.research.google.com/github/winstonwilliamsiii/MansaCap/blob/main/Retool_Flask.ipynb\" target=\"_parent\"><img src=\"https://colab.research.google.com/assets/colab-badge.svg\" alt=\"Open In Colab\"/></a>"
      ]
    },
    {
      "cell_type": "code",
      "execution_count": null,
      "metadata": {
        "id": "JFNERyWHWYwF"
      },
      "outputs": [],
      "source": [
        "#Retool Flask"
      ]
    },
    {
      "cell_type": "code",
      "source": [
        "from flask import Flask, jsonify\n",
        "from flask_sqlalchemy import SQLAlchemy\n",
        "\n",
        "app = Flask(__name__)\n",
        "db = SQLAlchemy(app)\n",
        "\n",
        "# Define a simple model\n",
        "class User(db.Model):\n",
        "    id = db.Column(db.Integer, primary_key=True)\n",
        "    name = db.Column(db.String(80))\n",
        "\n",
        "@app.route('/users', methods=['GET'])\n",
        "def get_users():\n",
        "    users = User.query.all()\n",
        "    return jsonify([{'id': user.id, 'name': user.name} for user in users])"
      ],
      "metadata": {
        "id": "n9R7tUYWWdpJ"
      },
      "execution_count": null,
      "outputs": []
    }
  ]
}