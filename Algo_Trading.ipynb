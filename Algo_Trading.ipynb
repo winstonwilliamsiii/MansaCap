{
  "nbformat": 4,
  "nbformat_minor": 0,
  "metadata": {
    "colab": {
      "provenance": [],
      "authorship_tag": "ABX9TyOXZKRaiBtXITa6BYoLWOMh",
      "include_colab_link": true
    },
    "kernelspec": {
      "name": "python3",
      "display_name": "Python 3"
    },
    "language_info": {
      "name": "python"
    }
  },
  "cells": [
    {
      "cell_type": "markdown",
      "metadata": {
        "id": "view-in-github",
        "colab_type": "text"
      },
      "source": [
        "<a href=\"https://colab.research.google.com/github/winstonwilliamsiii/MansaCap/blob/main/Algo_Trading.ipynb\" target=\"_parent\"><img src=\"https://colab.research.google.com/assets/colab-badge.svg\" alt=\"Open In Colab\"/></a>"
      ]
    },
    {
      "cell_type": "code",
      "execution_count": null,
      "metadata": {
        "colab": {
          "base_uri": "https://localhost:8080/"
        },
        "id": "nc5Z2LO0xeaI",
        "outputId": "ffabe121-ba0c-465c-a118-185016fde62b"
      },
      "outputs": [
        {
          "output_type": "stream",
          "name": "stdout",
          "text": [
            "Requirement already satisfied: matplotlib-venn in /usr/local/lib/python3.10/dist-packages (0.11.10)\n",
            "Requirement already satisfied: matplotlib in /usr/local/lib/python3.10/dist-packages (from matplotlib-venn) (3.7.1)\n",
            "Requirement already satisfied: numpy in /usr/local/lib/python3.10/dist-packages (from matplotlib-venn) (1.25.2)\n",
            "Requirement already satisfied: scipy in /usr/local/lib/python3.10/dist-packages (from matplotlib-venn) (1.11.4)\n",
            "Requirement already satisfied: contourpy>=1.0.1 in /usr/local/lib/python3.10/dist-packages (from matplotlib->matplotlib-venn) (1.2.1)\n",
            "Requirement already satisfied: cycler>=0.10 in /usr/local/lib/python3.10/dist-packages (from matplotlib->matplotlib-venn) (0.12.1)\n",
            "Requirement already satisfied: fonttools>=4.22.0 in /usr/local/lib/python3.10/dist-packages (from matplotlib->matplotlib-venn) (4.51.0)\n",
            "Requirement already satisfied: kiwisolver>=1.0.1 in /usr/local/lib/python3.10/dist-packages (from matplotlib->matplotlib-venn) (1.4.5)\n",
            "Requirement already satisfied: packaging>=20.0 in /usr/local/lib/python3.10/dist-packages (from matplotlib->matplotlib-venn) (24.0)\n",
            "Requirement already satisfied: pillow>=6.2.0 in /usr/local/lib/python3.10/dist-packages (from matplotlib->matplotlib-venn) (9.4.0)\n",
            "Requirement already satisfied: pyparsing>=2.3.1 in /usr/local/lib/python3.10/dist-packages (from matplotlib->matplotlib-venn) (3.1.2)\n",
            "Requirement already satisfied: python-dateutil>=2.7 in /usr/local/lib/python3.10/dist-packages (from matplotlib->matplotlib-venn) (2.8.2)\n",
            "Requirement already satisfied: six>=1.5 in /usr/local/lib/python3.10/dist-packages (from python-dateutil>=2.7->matplotlib->matplotlib-venn) (1.16.0)\n",
            "E: Unable to locate package libfluidsyth1\n"
          ]
        }
      ],
      "source": [
        "!pip install matplotlib-venn\n",
        "!apt-get -qq install -y libfluidsyth1\n"
      ]
    },
    {
      "cell_type": "code",
      "source": [
        "# def position_sizing(self):\n",
        "#     cash = self.get_cash()\n",
        "#     last_price = self.get_last_price(self.symbol)\n",
        "#     quantity = round(cash * self.cash_at_risk / last_price,0)\n",
        "#     return cash, last_price, quantity\n",
        "\n",
        "def position_sizing(self):\n",
        "    cash = self.get_cash()\n",
        "    last_price = self.get_last_price(self.symbol)\n",
        "    atr = self.calculate_atr(self.symbol)\n",
        "    take_profit, stop_loss = self.set_take_profit_stop_loss(last_price, atr)\n",
        "    quantity = round(cash * self.cash_at_risk / last_price, 0)\n",
        "    return cash, last_price, quantity, take_profit, stop_loss\n",
        "\n",
        "def calculate_atr(self, symbol, period=14):\n",
        "    # Fetch historical data for ATR calculation, implement accordingly\n",
        "    pass\n",
        "\n",
        "def set_take_profit_stop_loss(self, last_price, atr, multiplier=2):\n",
        "    take_profit = last_price + atr * multiplier\n",
        "    stop_loss = last_price - atr * multiplier\n",
        "    return take_profit, stop_loss\n",
        "\n",
        "\n",
        "def get_dates(self):\n",
        "    today = self.get_datetime()\n",
        "    three_days_prior = today - Timedelta(days=3)\n",
        "    return today.strftime('%Y-%m-%d'), three_days_prior.strftime('%Y-%m-%d')\n",
        "\n",
        "def get_sentiment(self):\n",
        "    today, three_days_prior = self.get_dates()\n",
        "    news = self.api.get_news(symbol=self.symbol,\n",
        "                             start=three_days_prior,\n",
        "                             end=today)\n",
        "    news = [ev.__dict__[\"_raw\"][\"headline\"] for ev in news]\n",
        "    probability, sentiment = estimate_sentiment(news)\n",
        "    return probability, sentiment\n",
        "\n",
        "def on_trading_iteration(self):\n",
        "    cash, last_price, quantity = self.position_sizing()\n",
        "    probability, sentiment = self.get_sentiment()\n",
        "\n",
        "    # if cash > last_price:\n",
        "    #     if sentiment == \"positive\" and probability > .999:\n",
        "    #         if self.last_trade == \"sell\":\n",
        "    #             self.sell_all()\n",
        "    #         order = self.create_order(\n",
        "    #             self.symbol,\n",
        "    #             quantity,\n",
        "    #             \"buy\",\n",
        "    #             type=\"bracket\",\n",
        "    #             take_profit_price=last_price*1.20,\n",
        "    #             stop_loss_price=last_price*.95\n",
        "    #         )\n",
        "    #         self.submit_order(order)\n",
        "    #         self.last_trade = \"buy\"\n",
        "    #     elif sentiment == \"negative\" and probability > .999:\n",
        "    #         if self.last_trade == \"buy\":\n",
        "    #             self.sell_all()\n",
        "    #         order = self.create_order(\n",
        "    #             self.symbol,\n",
        "    #             quantity,\n",
        "    #             \"sell\",\n",
        "    #             type=\"bracket\",\n",
        "    #             take_profit_price=last_price*.8,\n",
        "    #             stop_loss_price=last_price*1.05\n",
        "    #         )\n",
        "    #         self.submit_order(order)\n",
        "    #         self.last_trade = \"sell\"\n",
        "\n",
        "\n",
        "    if cash > last_price:\n",
        "        if sentiment == \"positive\" and probability > .999:\n",
        "            if self.last_trade == \"sell\":\n",
        "                self.sell_all()\n",
        "            order = self.create_order(\n",
        "                self.symbol,\n",
        "                quantity,\n",
        "                \"buy\",\n",
        "                type=\"bracket\",\n",
        "                take_profit_price=take_profit,\n",
        "                stop_loss_price=stop_loss\n",
        "            )\n",
        "            self.submit_order(order)\n",
        "            self.last_trade = \"buy\"\n",
        "        elif sentiment == \"negative\" and probability > .999:\n",
        "            if self.last_trade == \"buy\":\n",
        "                self.sell_all()\n",
        "            order = self.create_order(\n",
        "                self.symbol,\n",
        "                quantity,\n",
        "                \"sell\",\n",
        "                type=\"bracket\",\n",
        "                take_profit_price=take_profit,\n",
        "                stop_loss_price=stop_loss\n",
        "            )\n",
        "            self.submit_order(order)\n",
        "            self.last_trade = \"sell\""
      ],
      "metadata": {
        "id": "ahY72Le97eYQ"
      },
      "execution_count": 4,
      "outputs": []
    },
    {
      "cell_type": "code",
      "source": [
        "!apt-get -qq install -y graphviz && pip install pydot\n",
        "import pydot"
      ],
      "metadata": {
        "colab": {
          "base_uri": "https://localhost:8080/"
        },
        "id": "AObnV8_f4IxF",
        "outputId": "93c560bb-2bbc-40ea-9571-04f1fd2cedf6"
      },
      "execution_count": 3,
      "outputs": [
        {
          "output_type": "stream",
          "name": "stdout",
          "text": [
            "Requirement already satisfied: pydot in /usr/local/lib/python3.10/dist-packages (1.4.2)\n",
            "Requirement already satisfied: pyparsing>=2.1.4 in /usr/local/lib/python3.10/dist-packages (from pydot) (3.1.2)\n"
          ]
        }
      ]
    }
  ]
}